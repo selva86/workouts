{
 "cells": [
  {
   "cell_type": "markdown",
   "metadata": {},
   "source": [
    "# MCP Vs Function Calling"
   ]
  },
  {
   "cell_type": "code",
   "execution_count": 4,
   "metadata": {},
   "outputs": [],
   "source": [
    "# !pip install ollama\n",
    "# !pip install yfinance"
   ]
  },
  {
   "cell_type": "code",
   "execution_count": 2,
   "metadata": {},
   "outputs": [],
   "source": [
    "import ollama\n",
    "import yfinance as yf\n",
    "from pprint import pprint"
   ]
  },
  {
   "cell_type": "code",
   "execution_count": 3,
   "metadata": {},
   "outputs": [
    {
     "name": "stdout",
     "output_type": "stream",
     "text": [
      "Hello from 02-mcp-vs-function-calling!\n",
      "{'created_at': '2025-04-30T04:05:58.1027969Z',\n",
      " 'done': True,\n",
      " 'done_reason': 'stop',\n",
      " 'eval_count': 18,\n",
      " 'eval_duration': 2993856700,\n",
      " 'load_duration': 5522816200,\n",
      " 'message': Message(role='assistant', content='', images=None, tool_calls=[ToolCall(function=Function(name='get_price', arguments={'ticker': 'AAPL'}))]),\n",
      " 'model': 'llama3.2',\n",
      " 'prompt_eval_count': 160,\n",
      " 'prompt_eval_duration': 17805661900,\n",
      " 'total_duration': 26330325000}\n"
     ]
    }
   ],
   "source": [
    "\n",
    "# Download ollama from https://ollama.com/ and run `ollama run llama3.2:1b` in terminal\n",
    "# Install yfinance with `pip install yfinance` or `uv add yfinance`\n",
    "\n",
    "def get_price(ticker):\n",
    "    \"\"\"Get latest price for given ticker\"\"\"\n",
    "    stock = yf.Ticker(ticker)\n",
    "    return stock.history(period='1d')['close'].iloc[-1]\n",
    "\n",
    "response = ollama.chat(\n",
    "    'llama3.2',\n",
    "    messages=[{'role':'user', 'content': 'What is the stock price of Apple?'}],\n",
    "    tools=[get_price]\n",
    ")\n",
    "\n",
    "\n",
    "def main():\n",
    "    print(\"Hello from 02-mcp-vs-function-calling!\")\n",
    "    pprint(dict(response))\n",
    "\n",
    "if __name__ == \"__main__\":\n",
    "    main()"
   ]
  }
 ],
 "metadata": {
  "kernelspec": {
   "display_name": "genai312",
   "language": "python",
   "name": "python3"
  },
  "language_info": {
   "codemirror_mode": {
    "name": "ipython",
    "version": 3
   },
   "file_extension": ".py",
   "mimetype": "text/x-python",
   "name": "python",
   "nbconvert_exporter": "python",
   "pygments_lexer": "ipython3",
   "version": "3.12.0"
  }
 },
 "nbformat": 4,
 "nbformat_minor": 2
}
